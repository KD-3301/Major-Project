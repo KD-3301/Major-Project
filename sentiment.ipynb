import os
os.environ['KAGGLE_CONFIG_DIR']='/content'

!kaggle datasets download -d arkhoshghalb/twitter-sentiment-analysis-hatred-speech

!unzip \*.zip && rm *.zip

import pandas as pd
df=pd.read_csv('train.csv')
df

df['tweet'][31960]

df['label'].value_counts()

x=df.iloc[:,2]
y=df.iloc[:,1]
y

from sklearn.model_selection import train_test_split
x_train,x_test,y_train,y_test=train_test_split(x,y,test_size=0.25,random_state=0,stratify=y)
print(x_train.shape)
print(x_test.shape)

import numpy as np
np.unique(y_train,return_counts=True)

np.unique(y_test,return_counts=True)

from sklearn.pipeline import Pipeline
from sklearn.feature_extraction.text import TfidfVectorizer
from sklearn.svm import SVC

text_model=Pipeline([('tfidf',TfidfVectorizer()),('model',SVC())])

text_model.fit(x_train,y_train)

y_pred= text_model.predict(x_test)
y_pred

np.unique(y_pred,return_counts=True)



# Evaluation
from sklearn.metrics import accuracy_score,confusion_matrix,classification_report
confusion_matrix(y_pred,y_test)

accuracy_score(y_pred,y_test)

print(classification_report(y_pred,y_test))

text_model.predict(["we won!!! love the land!!! #allin #cavs #champions #cleveland #clevelandcavaliers  â¦ "])

!pip install streamlit
!pip install pyngrok==4.1.1
from pyngrok import ngrok

%%writefile app.py
import streamlit as st
st.title('Sentiment analysis')
import pandas as pd
df=pd.read_csv('train.csv')
x=df.iloc[:,2]
y=df.iloc[:,1]
from sklearn.model_selection import train_test_split
x_train,x_test,y_train,y_test=train_test_split(x,y,test_size=0.25,random_state=0,stratify=y)
from sklearn.pipeline import Pipeline
from sklearn.feature_extraction.text import TfidfVectorizer
from sklearn.svm import SVC
text_model=Pipeline([('tfidf',TfidfVectorizer()),('model',SVC())])
text_model.fit(x_train,y_train)
select=st.text_input('Enter your message')
op=text_model.predict([select])
st.title(op[0])
st.markdown('**0 represent Tweet is not racist/sexist**.')
st.markdown('**1 represent Tweet is racist/sexist**.')

!nohup streamlit run app.py &

public_url = ngrok.connect(port='8501')
print(public_url)
